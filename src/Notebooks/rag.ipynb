{
 "cells": [
  {
   "cell_type": "code",
   "execution_count": 266,
   "metadata": {},
   "outputs": [],
   "source": [
    "from langchain_groq import ChatGroq\n",
    "from langchain_core.messages import HumanMessage,SystemMessage,AIMessage\n",
    "from langchain_core.prompts import ChatPromptTemplate, MessagesPlaceholder\n",
    "from langchain_community.chat_message_histories import ChatMessageHistory\n",
    "from langchain_core.chat_history import BaseChatMessageHistory\n",
    "from langchain_core.runnables.history import RunnableWithMessageHistory\n",
    "from langchain.chains import create_history_aware_retriever,create_retrieval_chain\n",
    "from langchain.chains.combine_documents import create_stuff_documents_chain\n",
    "from langchain_core.prompts import MessagesPlaceholder\n",
    "\n",
    "\n",
    "from langchain_community.document_loaders import DataFrameLoader\n",
    "import numpy as np\n",
    "import json\n"
   ]
  },
  {
   "cell_type": "code",
   "execution_count": 267,
   "metadata": {},
   "outputs": [],
   "source": [
    "import os\n",
    "import bs4\n",
    "from dotenv import load_dotenv\n",
    "load_dotenv()\n",
    "\n",
    "os.environ[\"OPENAI_API_KEY\"] = os.getenv(\"OPENAI_API_KEY\")\n",
    "os.environ[\"LANGCHAIN_API_KEY\"] = os.getenv(\"LANGCHAIN_API_KEY\")\n",
    "os.environ[\"LANGCHAIN_TRACING_V2\"] = \"true\"\n",
    "os.environ[\"LANGCHAIN_PROJECT\"] = os.getenv(\"LANGCHAIN_PROJECT\")\n",
    "os.environ[\"GROQ_API_KEY\"] = os.getenv(\"GROQ_API_KEY\")\n",
    "os.environ[\"HUGGING_FACE_KEY\"] = os.getenv(\"HUGGING_FACE_KEY\")\n"
   ]
  },
  {
   "cell_type": "code",
   "execution_count": 281,
   "metadata": {},
   "outputs": [],
   "source": [
    "import pandas as pd\n",
    "\n",
    "df = pd.read_json(\"hf://datasets/mandeepbagga/flipkart-phones-description/data.jsonl\", lines=True)"
   ]
  },
  {
   "cell_type": "code",
   "execution_count": 375,
   "metadata": {},
   "outputs": [
    {
     "data": {
      "text/plain": [
       "0       POCO M6 Pro 5G (Power Black, 128 GB)  (6 GB RAM)\n",
       "1       POCO M6 Pro 5G (Forest Green, 64 GB)  (4 GB RAM)\n",
       "2        POCO M6 Pro 5G (Power Black, 64 GB)  (4 GB RAM)\n",
       "3              POCO C51 (Power Black, 64 GB)  (4 GB RAM)\n",
       "4               POCO C51 (Royal Blue, 64 GB)  (4 GB RAM)\n",
       "                             ...                        \n",
       "202                           Micromax S115  (Red+Black)\n",
       "203                              Micromax S115  (Purple)\n",
       "204                           Micromax S115  (Teal Blue)\n",
       "205    SAMSUNG Galaxy F34 5G (Mystic Green, 128 GB)  ...\n",
       "206    Infinix Smart 6 HD (Force Black, 32 GB)  (2 GB...\n",
       "Name: Phone, Length: 207, dtype: object"
      ]
     },
     "execution_count": 375,
     "metadata": {},
     "output_type": "execute_result"
    }
   ],
   "source": [
    "df['Phone']"
   ]
  },
  {
   "cell_type": "code",
   "execution_count": 381,
   "metadata": {},
   "outputs": [
    {
     "data": {
      "text/html": [
       "<div>\n",
       "<style scoped>\n",
       "    .dataframe tbody tr th:only-of-type {\n",
       "        vertical-align: middle;\n",
       "    }\n",
       "\n",
       "    .dataframe tbody tr th {\n",
       "        vertical-align: top;\n",
       "    }\n",
       "\n",
       "    .dataframe thead th {\n",
       "        text-align: right;\n",
       "    }\n",
       "</style>\n",
       "<table border=\"1\" class=\"dataframe\">\n",
       "  <thead>\n",
       "    <tr style=\"text-align: right;\">\n",
       "      <th></th>\n",
       "      <th>Phone</th>\n",
       "      <th>Features</th>\n",
       "      <th>Description</th>\n",
       "      <th>type</th>\n",
       "      <th>text</th>\n",
       "      <th>specs</th>\n",
       "    </tr>\n",
       "  </thead>\n",
       "  <tbody>\n",
       "  </tbody>\n",
       "</table>\n",
       "</div>"
      ],
      "text/plain": [
       "Empty DataFrame\n",
       "Columns: [Phone, Features, Description, type, text, specs]\n",
       "Index: []"
      ]
     },
     "execution_count": 381,
     "metadata": {},
     "output_type": "execute_result"
    }
   ],
   "source": [
    "df[df['Phone'].str.contains('i phone', case=False, na=False)]"
   ]
  },
  {
   "cell_type": "code",
   "execution_count": 289,
   "metadata": {},
   "outputs": [],
   "source": [
    "df['fullDescr'] = \"Name: \" + df['Phone'] + \" Price: \" + df['price']+ \" Feature: \" + df['Features'] "
   ]
  },
  {
   "cell_type": "code",
   "execution_count": 283,
   "metadata": {},
   "outputs": [],
   "source": [
    "df['price'] = np.random.randint(10000, 45001, size=len(df))\n"
   ]
  },
  {
   "cell_type": "code",
   "execution_count": 286,
   "metadata": {},
   "outputs": [],
   "source": [
    "df['price']=df['price'].apply(lambda x : str(x))"
   ]
  },
  {
   "cell_type": "code",
   "execution_count": 291,
   "metadata": {},
   "outputs": [
    {
     "data": {
      "text/plain": [
       "'Name: POCO M6 Pro 5G (Forest Green, 64 GB)\\xa0\\xa0(4 GB RAM) Price: 12174 Feature:  4 GB RAM | 64 GB ROM | Expandable Upto 1 TB 17.25 cm (6.79 inch) Full HD+ Display 50MP + 2MP | 8MP Front Camera 5000 mAh Battery Snapdragon 4 Gen 2 Processor'"
      ]
     },
     "execution_count": 291,
     "metadata": {},
     "output_type": "execute_result"
    }
   ],
   "source": [
    "df['fullDescr'][1]"
   ]
  },
  {
   "cell_type": "code",
   "execution_count": 292,
   "metadata": {},
   "outputs": [],
   "source": [
    "page_content_column = \"fullDescr\"\n",
    "\n",
    "\n",
    "loader = DataFrameLoader(df, page_content_column=page_content_column)"
   ]
  },
  {
   "cell_type": "code",
   "execution_count": 293,
   "metadata": {},
   "outputs": [],
   "source": [
    "docs = loader.load()"
   ]
  },
  {
   "cell_type": "code",
   "execution_count": 294,
   "metadata": {},
   "outputs": [],
   "source": [
    "docs_data = [{\"content\": doc.page_content, \"metadata\": doc.metadata} for doc in docs]\n",
    "\n",
    "# Convert the list to a JSON string\n",
    "docs_json = json.dumps(docs_data, indent=4)\n",
    "\n",
    "# Specify the output file path\n",
    "output_file_path = \"/Users/sanketsaxena/Desktop/eccomChatbot/Artifacts/data/rawData.json\"\n",
    "\n",
    "# Save JSON string to file\n",
    "with open(output_file_path, \"w\") as f:\n",
    "    f.write(docs_json)\n"
   ]
  },
  {
   "cell_type": "code",
   "execution_count": 296,
   "metadata": {},
   "outputs": [],
   "source": [
    "from langchain_openai.embeddings import OpenAIEmbeddings\n",
    "embeddings = OpenAIEmbeddings(model=\"text-embedding-3-large\")\n"
   ]
  },
  {
   "cell_type": "code",
   "execution_count": 297,
   "metadata": {},
   "outputs": [],
   "source": [
    "from langchain_community.vectorstores import FAISS\n",
    "faissDB = FAISS.from_documents(docs,embeddings)"
   ]
  },
  {
   "cell_type": "code",
   "execution_count": 298,
   "metadata": {},
   "outputs": [],
   "source": [
    "response = faissDB.similarity_search_with_relevance_scores(query=\"8gb RAM \")"
   ]
  },
  {
   "cell_type": "code",
   "execution_count": 299,
   "metadata": {},
   "outputs": [
    {
     "data": {
      "text/plain": [
       "'Name: realme C55 (Rainy Night, 128 GB)\\xa0\\xa0(8 GB RAM) Price: 28247 Feature:  8 GB RAM | 128 GB ROM | Expandable Upto 1 TB 17.07 cm (6.72 inch) Full HD+ Display 64MP + 2MP | 8MP Front Camera 5000 mAh Battery Helio G88 Processor'"
      ]
     },
     "execution_count": 299,
     "metadata": {},
     "output_type": "execute_result"
    }
   ],
   "source": [
    "response[0][0].page_content"
   ]
  },
  {
   "cell_type": "code",
   "execution_count": 300,
   "metadata": {},
   "outputs": [],
   "source": [
    "faissDB.save_local(folder_path=\"/Users/sanketsaxena/Desktop/eccomChatbot/Artifacts\",index_name=\"faissDB\")"
   ]
  },
  {
   "cell_type": "code",
   "execution_count": 301,
   "metadata": {},
   "outputs": [],
   "source": [
    "faissDBCopy = FAISS.load_local(folder_path=\"/Users/sanketsaxena/Desktop/eccomChatbot/Artifacts\",index_name=\"faissDB\",embeddings=embeddings,allow_dangerous_deserialization=True)"
   ]
  },
  {
   "cell_type": "code",
   "execution_count": 302,
   "metadata": {},
   "outputs": [],
   "source": [
    "response = faissDBCopy.similarity_search(query=\"blue tshirt and pant combo\")"
   ]
  },
  {
   "cell_type": "code",
   "execution_count": 303,
   "metadata": {},
   "outputs": [
    {
     "data": {
      "text/plain": [
       "'Name: A10E\\xa0\\xa0(Dark Blue) Price: 38350 Feature:  4 MB RAM | 32 MB ROM 4.57 cm (1.8 inch) Display 800 mAh Battery'"
      ]
     },
     "execution_count": 303,
     "metadata": {},
     "output_type": "execute_result"
    }
   ],
   "source": [
    "response[1].page_content"
   ]
  },
  {
   "cell_type": "code",
   "execution_count": 304,
   "metadata": {},
   "outputs": [],
   "source": [
    "retriever = faissDB.as_retriever()"
   ]
  },
  {
   "cell_type": "code",
   "execution_count": 389,
   "metadata": {},
   "outputs": [],
   "source": [
    "llm = ChatGroq(model= \"Gemma2-9b-It\")"
   ]
  },
  {
   "cell_type": "code",
   "execution_count": 390,
   "metadata": {},
   "outputs": [],
   "source": [
    "contextualize_q_system_prompt = (\n",
    "    \"Given a chat history and the latest user question \"\n",
    "    \"which might reference context in the chat history, \"\n",
    "    \"formulate a standalone question which can be understood \"\n",
    "    \"without the chat history. Do NOT answer the question, \"\n",
    "    \"just reformulate it if needed and otherwise return it as is.\"\n",
    ")\n",
    "contextualize_q_prompt = ChatPromptTemplate.from_messages(\n",
    "    [\n",
    "        (\"system\",contextualize_q_system_prompt),\n",
    "        MessagesPlaceholder(\"chat_history\"),\n",
    "        (\"user\",\"{input}\")\n",
    "    ]\n",
    ")\n",
    "history_aware_retriever = create_history_aware_retriever(\n",
    "    llm, retriever, contextualize_q_prompt\n",
    ")"
   ]
  },
  {
   "cell_type": "code",
   "execution_count": 395,
   "metadata": {},
   "outputs": [],
   "source": [
    "system_prompt = (\n",
    "    \"\"\"\n",
    "                You are a helpful virtual assistant for a mobile e-commerce site called Sanket Mobile Store. Your goal is to assist users with the following based on context you are given:\n",
    "\n",
    "                1. Welcome users and provide a friendly greeting.\n",
    "                2. Help users browse the latest products.\n",
    "                3. Assist users in finding specific items.\n",
    "                4. Always give name of phones initially then ask whether user wants more information about it. \n",
    "                6. Offer general assistance and answer questions.\n",
    "                7. Connect users with customer support when needed.\n",
    "                8. Always show each product in a new line\n",
    "                \n",
    "\n",
    "                Remember to be friendly, helpful, and concise in your responses.\n",
    "\n",
    "                Start with a greeting:\n",
    "                \"Hi there! 👋 Welcome to [Your Store Name]! I'm your virtual assistant, here to help you have a great shopping experience.\\n How can I assist you today?\"\n",
    "\n",
    "                You can proceed with the conversation based on the user's input.\n",
    "                \"\"\"\n",
    "    \"\\n\\n\"\n",
    "    \"{context}\"\n",
    ")\n",
    "\n",
    "qa_prompt = ChatPromptTemplate.from_messages(\n",
    "    [\n",
    "        (\"system\",system_prompt),\n",
    "        MessagesPlaceholder(\"chat_history\"),\n",
    "        (\"user\",\"{input}\")\n",
    "    ]\n",
    ")\n",
    "\n",
    "question_and_answer_chain = create_stuff_documents_chain(llm,qa_prompt)\n",
    "rag_chain = create_retrieval_chain(history_aware_retriever,question_and_answer_chain)"
   ]
  },
  {
   "cell_type": "code",
   "execution_count": 396,
   "metadata": {},
   "outputs": [],
   "source": [
    "store = {}\n",
    "\n",
    "\n",
    "def get_session_history(session_id: str) -> BaseChatMessageHistory:\n",
    "    if session_id not in store:\n",
    "        store[session_id] = ChatMessageHistory()\n",
    "    return store[session_id]\n",
    "\n",
    "\n",
    "conversational_rag_chain = RunnableWithMessageHistory(\n",
    "    rag_chain,\n",
    "    get_session_history,\n",
    "    input_messages_key=\"input\",\n",
    "    history_messages_key=\"chat_history\",\n",
    "    output_messages_key=\"answer\"\n",
    ")"
   ]
  },
  {
   "cell_type": "code",
   "execution_count": 397,
   "metadata": {},
   "outputs": [],
   "source": [
    "config={\"configurable\": {\"session_id\": \"abc2\"}}"
   ]
  },
  {
   "cell_type": "code",
   "execution_count": 398,
   "metadata": {},
   "outputs": [
    {
     "data": {
      "text/plain": [
       "\"Hi there! 👋 Welcome to Sanket Mobile Store! I'm your virtual assistant, here to help you have a great shopping experience. How can I assist you today?\\n\\nHere are the OnePlus phones we currently have:\\n\\n- OnePlus Ce2 Lite to CPH2381 (Blue Tide, 128 GB)\\xa0\\xa0(6 GB RAM) \\nWould you like to know more about this phone?\\n\\n- OnePlus Ce2 Lite to CPH2381 (Blue Tide, 128 GB)\\xa0\\xa0(6 GB RAM) \\nWould you like to know more about this phone?\\n\\n- OnePlus Nord CE 2 Lite 5G (Black Dusk, 128 GB)\\xa0\\xa0(6 GB RAM) \\nWould you like to know more about this phone?\\n\\n- OnePlus Nord CE 2 Lite 5G (Black Dusk, 128 GB)\\xa0\\xa0(6 GB RAM) \\nWould you like to know more about this phone?\\n\\n\\n\\n\\n\""
      ]
     },
     "execution_count": 398,
     "metadata": {},
     "output_type": "execute_result"
    }
   ],
   "source": [
    "conversational_rag_chain.invoke(\n",
    "    {\"input\":\"What all oneplus phones do you have?\"},\n",
    "    config= config\n",
    ")['answer']"
   ]
  },
  {
   "cell_type": "code",
   "execution_count": null,
   "metadata": {},
   "outputs": [],
   "source": []
  }
 ],
 "metadata": {
  "kernelspec": {
   "display_name": "Python 3",
   "language": "python",
   "name": "python3"
  },
  "language_info": {
   "codemirror_mode": {
    "name": "ipython",
    "version": 3
   },
   "file_extension": ".py",
   "mimetype": "text/x-python",
   "name": "python",
   "nbconvert_exporter": "python",
   "pygments_lexer": "ipython3",
   "version": "3.10.14"
  }
 },
 "nbformat": 4,
 "nbformat_minor": 2
}
